{
  "nbformat": 4,
  "nbformat_minor": 0,
  "metadata": {
    "colab": {
      "name": "dotSlash_decisionTree.ipynb",
      "provenance": [],
      "collapsed_sections": []
    },
    "kernelspec": {
      "name": "python3",
      "display_name": "Python 3"
    },
    "language_info": {
      "name": "python"
    }
  },
  "cells": [
    {
      "cell_type": "code",
      "execution_count": 267,
      "metadata": {
        "id": "6CeCzsngJZul"
      },
      "outputs": [],
      "source": [
        "import pandas as pd\n",
        "import numpy as np\n",
        "\n",
        "import matplotlib.pyplot as plt\n",
        "\n",
        "td = pd.read_csv(\"cov.csv\")"
      ]
    },
    {
      "cell_type": "code",
      "source": [
        "td = td.drop(td.columns[0], axis=1)"
      ],
      "metadata": {
        "id": "sQpLgL_6JfDK"
      },
      "execution_count": 268,
      "outputs": []
    },
    {
      "cell_type": "code",
      "source": [
        "td.loc[td[\"score\"] < 0.50, \"category\"] = \"Normal\""
      ],
      "metadata": {
        "id": "FXkbJe5vO8I-"
      },
      "execution_count": 269,
      "outputs": []
    },
    {
      "cell_type": "code",
      "source": [
        "td.isnull().sum()"
      ],
      "metadata": {
        "colab": {
          "base_uri": "https://localhost:8080/"
        },
        "id": "t6rWzFKCWXE7",
        "outputId": "a32ce00c-a42e-4dec-ebed-8da38c5eeeee"
      },
      "execution_count": 270,
      "outputs": [
        {
          "output_type": "execute_result",
          "data": {
            "text/plain": [
              "joined                  0\n",
              "username                0\n",
              "name                    4\n",
              "category             5033\n",
              "score                   2\n",
              "tweets                  0\n",
              "following               0\n",
              "followers               0\n",
              "likes                   0\n",
              "user_id             11095\n",
              "date_added          11095\n",
              "status              11095\n",
              "verified                0\n",
              "geo_enabled             0\n",
              "suspended               0\n",
              "profile_location    24862\n",
              "listed_count            0\n",
              "Unnamed: 17         28982\n",
              "dtype: int64"
            ]
          },
          "metadata": {},
          "execution_count": 270
        }
      ]
    },
    {
      "cell_type": "code",
      "source": [
        "td.dropna(subset = ['category'], inplace = True)"
      ],
      "metadata": {
        "id": "mamlclasWakh"
      },
      "execution_count": 271,
      "outputs": []
    },
    {
      "cell_type": "code",
      "source": [
        "td.isnull().sum()"
      ],
      "metadata": {
        "colab": {
          "base_uri": "https://localhost:8080/"
        },
        "id": "1mB3cbpXWskX",
        "outputId": "779f1aed-cf0d-4401-94bc-c95e8f58521f"
      },
      "execution_count": 272,
      "outputs": [
        {
          "output_type": "execute_result",
          "data": {
            "text/plain": [
              "joined                  0\n",
              "username                0\n",
              "name                    2\n",
              "category                0\n",
              "score                   0\n",
              "tweets                  0\n",
              "following               0\n",
              "followers               0\n",
              "likes                   0\n",
              "user_id             11095\n",
              "date_added          11095\n",
              "status              11095\n",
              "verified                0\n",
              "geo_enabled             0\n",
              "suspended               0\n",
              "profile_location    20188\n",
              "listed_count            0\n",
              "Unnamed: 17         23949\n",
              "dtype: int64"
            ]
          },
          "metadata": {},
          "execution_count": 272
        }
      ]
    },
    {
      "cell_type": "code",
      "source": [
        "td.head()"
      ],
      "metadata": {
        "colab": {
          "base_uri": "https://localhost:8080/",
          "height": 530
        },
        "id": "Psa582NRXorT",
        "outputId": "5ce2b673-f7cd-461c-a059-6171dbb6f64c"
      },
      "execution_count": 273,
      "outputs": [
        {
          "output_type": "execute_result",
          "data": {
            "text/plain": [
              "                joined       username  \\\n",
              "0  2019-10-01 00:00:00  JoLynnBlake13   \n",
              "1  2018-09-01 00:00:00      BreLa1212   \n",
              "2  2015-02-01 00:00:00  NotMattrellen   \n",
              "3  2018-05-01 00:00:00  lizthemomager   \n",
              "4  2011-03-01 00:00:00        ipmedic   \n",
              "\n",
              "                                               name  category  score  tweets  \\\n",
              "0  The hammer of Truth, Justice & the American Way!  Trollbot   0.81   24113   \n",
              "1                                            Bre-la  Trollbot   0.80    7145   \n",
              "2                           Probably Not Mattrellen  Trollbot   0.87     667   \n",
              "3                                           Aiabeth  Trollbot   0.77    2657   \n",
              "4                                         Jeff Long  Trollbot   0.80    2795   \n",
              "\n",
              "   following  followers  likes  user_id date_added status verified  \\\n",
              "0       7514       7334     10      NaN        NaN    NaN    False   \n",
              "1        126         54   9749      NaN        NaN    NaN    False   \n",
              "2        113         65   2214      NaN        NaN    NaN    False   \n",
              "3        739        448    743      NaN        NaN    NaN    False   \n",
              "4       4734       3540  10111      NaN        NaN    NaN    False   \n",
              "\n",
              "  geo_enabled  suspended profile_location listed_count  Unnamed: 17  \n",
              "0       False       True              NaN            0          NaN  \n",
              "1       False      False      Hawaii, USA            5          NaN  \n",
              "2       False      False              NaN            0          NaN  \n",
              "3       False       True              NaN            0          NaN  \n",
              "4        True      False              NaN            4          NaN  "
            ],
            "text/html": [
              "\n",
              "  <div id=\"df-31fbe674-84a5-41e7-9838-4adb03c9172e\">\n",
              "    <div class=\"colab-df-container\">\n",
              "      <div>\n",
              "<style scoped>\n",
              "    .dataframe tbody tr th:only-of-type {\n",
              "        vertical-align: middle;\n",
              "    }\n",
              "\n",
              "    .dataframe tbody tr th {\n",
              "        vertical-align: top;\n",
              "    }\n",
              "\n",
              "    .dataframe thead th {\n",
              "        text-align: right;\n",
              "    }\n",
              "</style>\n",
              "<table border=\"1\" class=\"dataframe\">\n",
              "  <thead>\n",
              "    <tr style=\"text-align: right;\">\n",
              "      <th></th>\n",
              "      <th>joined</th>\n",
              "      <th>username</th>\n",
              "      <th>name</th>\n",
              "      <th>category</th>\n",
              "      <th>score</th>\n",
              "      <th>tweets</th>\n",
              "      <th>following</th>\n",
              "      <th>followers</th>\n",
              "      <th>likes</th>\n",
              "      <th>user_id</th>\n",
              "      <th>date_added</th>\n",
              "      <th>status</th>\n",
              "      <th>verified</th>\n",
              "      <th>geo_enabled</th>\n",
              "      <th>suspended</th>\n",
              "      <th>profile_location</th>\n",
              "      <th>listed_count</th>\n",
              "      <th>Unnamed: 17</th>\n",
              "    </tr>\n",
              "  </thead>\n",
              "  <tbody>\n",
              "    <tr>\n",
              "      <th>0</th>\n",
              "      <td>2019-10-01 00:00:00</td>\n",
              "      <td>JoLynnBlake13</td>\n",
              "      <td>The hammer of Truth, Justice &amp; the American Way!</td>\n",
              "      <td>Trollbot</td>\n",
              "      <td>0.81</td>\n",
              "      <td>24113</td>\n",
              "      <td>7514</td>\n",
              "      <td>7334</td>\n",
              "      <td>10</td>\n",
              "      <td>NaN</td>\n",
              "      <td>NaN</td>\n",
              "      <td>NaN</td>\n",
              "      <td>False</td>\n",
              "      <td>False</td>\n",
              "      <td>True</td>\n",
              "      <td>NaN</td>\n",
              "      <td>0</td>\n",
              "      <td>NaN</td>\n",
              "    </tr>\n",
              "    <tr>\n",
              "      <th>1</th>\n",
              "      <td>2018-09-01 00:00:00</td>\n",
              "      <td>BreLa1212</td>\n",
              "      <td>Bre-la</td>\n",
              "      <td>Trollbot</td>\n",
              "      <td>0.80</td>\n",
              "      <td>7145</td>\n",
              "      <td>126</td>\n",
              "      <td>54</td>\n",
              "      <td>9749</td>\n",
              "      <td>NaN</td>\n",
              "      <td>NaN</td>\n",
              "      <td>NaN</td>\n",
              "      <td>False</td>\n",
              "      <td>False</td>\n",
              "      <td>False</td>\n",
              "      <td>Hawaii, USA</td>\n",
              "      <td>5</td>\n",
              "      <td>NaN</td>\n",
              "    </tr>\n",
              "    <tr>\n",
              "      <th>2</th>\n",
              "      <td>2015-02-01 00:00:00</td>\n",
              "      <td>NotMattrellen</td>\n",
              "      <td>Probably Not Mattrellen</td>\n",
              "      <td>Trollbot</td>\n",
              "      <td>0.87</td>\n",
              "      <td>667</td>\n",
              "      <td>113</td>\n",
              "      <td>65</td>\n",
              "      <td>2214</td>\n",
              "      <td>NaN</td>\n",
              "      <td>NaN</td>\n",
              "      <td>NaN</td>\n",
              "      <td>False</td>\n",
              "      <td>False</td>\n",
              "      <td>False</td>\n",
              "      <td>NaN</td>\n",
              "      <td>0</td>\n",
              "      <td>NaN</td>\n",
              "    </tr>\n",
              "    <tr>\n",
              "      <th>3</th>\n",
              "      <td>2018-05-01 00:00:00</td>\n",
              "      <td>lizthemomager</td>\n",
              "      <td>Aiabeth</td>\n",
              "      <td>Trollbot</td>\n",
              "      <td>0.77</td>\n",
              "      <td>2657</td>\n",
              "      <td>739</td>\n",
              "      <td>448</td>\n",
              "      <td>743</td>\n",
              "      <td>NaN</td>\n",
              "      <td>NaN</td>\n",
              "      <td>NaN</td>\n",
              "      <td>False</td>\n",
              "      <td>False</td>\n",
              "      <td>True</td>\n",
              "      <td>NaN</td>\n",
              "      <td>0</td>\n",
              "      <td>NaN</td>\n",
              "    </tr>\n",
              "    <tr>\n",
              "      <th>4</th>\n",
              "      <td>2011-03-01 00:00:00</td>\n",
              "      <td>ipmedic</td>\n",
              "      <td>Jeff Long</td>\n",
              "      <td>Trollbot</td>\n",
              "      <td>0.80</td>\n",
              "      <td>2795</td>\n",
              "      <td>4734</td>\n",
              "      <td>3540</td>\n",
              "      <td>10111</td>\n",
              "      <td>NaN</td>\n",
              "      <td>NaN</td>\n",
              "      <td>NaN</td>\n",
              "      <td>False</td>\n",
              "      <td>True</td>\n",
              "      <td>False</td>\n",
              "      <td>NaN</td>\n",
              "      <td>4</td>\n",
              "      <td>NaN</td>\n",
              "    </tr>\n",
              "  </tbody>\n",
              "</table>\n",
              "</div>\n",
              "      <button class=\"colab-df-convert\" onclick=\"convertToInteractive('df-31fbe674-84a5-41e7-9838-4adb03c9172e')\"\n",
              "              title=\"Convert this dataframe to an interactive table.\"\n",
              "              style=\"display:none;\">\n",
              "        \n",
              "  <svg xmlns=\"http://www.w3.org/2000/svg\" height=\"24px\"viewBox=\"0 0 24 24\"\n",
              "       width=\"24px\">\n",
              "    <path d=\"M0 0h24v24H0V0z\" fill=\"none\"/>\n",
              "    <path d=\"M18.56 5.44l.94 2.06.94-2.06 2.06-.94-2.06-.94-.94-2.06-.94 2.06-2.06.94zm-11 1L8.5 8.5l.94-2.06 2.06-.94-2.06-.94L8.5 2.5l-.94 2.06-2.06.94zm10 10l.94 2.06.94-2.06 2.06-.94-2.06-.94-.94-2.06-.94 2.06-2.06.94z\"/><path d=\"M17.41 7.96l-1.37-1.37c-.4-.4-.92-.59-1.43-.59-.52 0-1.04.2-1.43.59L10.3 9.45l-7.72 7.72c-.78.78-.78 2.05 0 2.83L4 21.41c.39.39.9.59 1.41.59.51 0 1.02-.2 1.41-.59l7.78-7.78 2.81-2.81c.8-.78.8-2.07 0-2.86zM5.41 20L4 18.59l7.72-7.72 1.47 1.35L5.41 20z\"/>\n",
              "  </svg>\n",
              "      </button>\n",
              "      \n",
              "  <style>\n",
              "    .colab-df-container {\n",
              "      display:flex;\n",
              "      flex-wrap:wrap;\n",
              "      gap: 12px;\n",
              "    }\n",
              "\n",
              "    .colab-df-convert {\n",
              "      background-color: #E8F0FE;\n",
              "      border: none;\n",
              "      border-radius: 50%;\n",
              "      cursor: pointer;\n",
              "      display: none;\n",
              "      fill: #1967D2;\n",
              "      height: 32px;\n",
              "      padding: 0 0 0 0;\n",
              "      width: 32px;\n",
              "    }\n",
              "\n",
              "    .colab-df-convert:hover {\n",
              "      background-color: #E2EBFA;\n",
              "      box-shadow: 0px 1px 2px rgba(60, 64, 67, 0.3), 0px 1px 3px 1px rgba(60, 64, 67, 0.15);\n",
              "      fill: #174EA6;\n",
              "    }\n",
              "\n",
              "    [theme=dark] .colab-df-convert {\n",
              "      background-color: #3B4455;\n",
              "      fill: #D2E3FC;\n",
              "    }\n",
              "\n",
              "    [theme=dark] .colab-df-convert:hover {\n",
              "      background-color: #434B5C;\n",
              "      box-shadow: 0px 1px 3px 1px rgba(0, 0, 0, 0.15);\n",
              "      filter: drop-shadow(0px 1px 2px rgba(0, 0, 0, 0.3));\n",
              "      fill: #FFFFFF;\n",
              "    }\n",
              "  </style>\n",
              "\n",
              "      <script>\n",
              "        const buttonEl =\n",
              "          document.querySelector('#df-31fbe674-84a5-41e7-9838-4adb03c9172e button.colab-df-convert');\n",
              "        buttonEl.style.display =\n",
              "          google.colab.kernel.accessAllowed ? 'block' : 'none';\n",
              "\n",
              "        async function convertToInteractive(key) {\n",
              "          const element = document.querySelector('#df-31fbe674-84a5-41e7-9838-4adb03c9172e');\n",
              "          const dataTable =\n",
              "            await google.colab.kernel.invokeFunction('convertToInteractive',\n",
              "                                                     [key], {});\n",
              "          if (!dataTable) return;\n",
              "\n",
              "          const docLinkHtml = 'Like what you see? Visit the ' +\n",
              "            '<a target=\"_blank\" href=https://colab.research.google.com/notebooks/data_table.ipynb>data table notebook</a>'\n",
              "            + ' to learn more about interactive tables.';\n",
              "          element.innerHTML = '';\n",
              "          dataTable['output_type'] = 'display_data';\n",
              "          await google.colab.output.renderOutput(dataTable, element);\n",
              "          const docLink = document.createElement('div');\n",
              "          docLink.innerHTML = docLinkHtml;\n",
              "          element.appendChild(docLink);\n",
              "        }\n",
              "      </script>\n",
              "    </div>\n",
              "  </div>\n",
              "  "
            ]
          },
          "metadata": {},
          "execution_count": 273
        }
      ]
    },
    {
      "cell_type": "code",
      "source": [
        "td.info()"
      ],
      "metadata": {
        "colab": {
          "base_uri": "https://localhost:8080/"
        },
        "id": "o5xo7q-oYEBR",
        "outputId": "2c5606e7-c703-4336-dac6-32a8b90ea081"
      },
      "execution_count": 274,
      "outputs": [
        {
          "output_type": "stream",
          "name": "stdout",
          "text": [
            "<class 'pandas.core.frame.DataFrame'>\n",
            "Int64Index: 25942 entries, 0 to 30974\n",
            "Data columns (total 18 columns):\n",
            " #   Column            Non-Null Count  Dtype  \n",
            "---  ------            --------------  -----  \n",
            " 0   joined            25942 non-null  object \n",
            " 1   username          25942 non-null  object \n",
            " 2   name              25940 non-null  object \n",
            " 3   category          25942 non-null  object \n",
            " 4   score             25942 non-null  float64\n",
            " 5   tweets            25942 non-null  int64  \n",
            " 6   following         25942 non-null  int64  \n",
            " 7   followers         25942 non-null  int64  \n",
            " 8   likes             25942 non-null  int64  \n",
            " 9   user_id           14847 non-null  float64\n",
            " 10  date_added        14847 non-null  object \n",
            " 11  status            14847 non-null  object \n",
            " 12  verified          25942 non-null  object \n",
            " 13  geo_enabled       25942 non-null  object \n",
            " 14  suspended         25942 non-null  bool   \n",
            " 15  profile_location  5754 non-null   object \n",
            " 16  listed_count      25942 non-null  object \n",
            " 17  Unnamed: 17       1993 non-null   float64\n",
            "dtypes: bool(1), float64(3), int64(4), object(10)\n",
            "memory usage: 3.6+ MB\n"
          ]
        }
      ]
    },
    {
      "cell_type": "code",
      "source": [
        "\n",
        "td.loc[td[\"category\"] == \"Trollbot\", \"category\"] = 1\n",
        "td.loc[td[\"category\"] == \"Normal\", \"category\"] = 0"
      ],
      "metadata": {
        "id": "o2gYUiaNZWsG"
      },
      "execution_count": 275,
      "outputs": []
    },
    {
      "cell_type": "code",
      "source": [
        "td.loc[td[\"verified\"] == \"False\", \"verified\"] = 0\n",
        "td.loc[td[\"verified\"] == \"True\", \"verified\"] = 1\n",
        "td.loc[td[\"geo_enabled\"] == \"False\", \"geo_enabled\"] = 0\n",
        "td.loc[td[\"geo_enabled\"] == \"True\", \"geo_enabled\"] = 1"
      ],
      "metadata": {
        "id": "hZfnWvJQbN9q"
      },
      "execution_count": 276,
      "outputs": []
    },
    {
      "cell_type": "code",
      "source": [
        "td.loc[td[\"suspended\"] == False, \"suspended\"] = 0\n",
        "td.loc[td[\"suspended\"] == True, \"suspended\"] = 1"
      ],
      "metadata": {
        "id": "Xm030twfbaxv"
      },
      "execution_count": 277,
      "outputs": []
    },
    {
      "cell_type": "code",
      "source": [
        "td.head()"
      ],
      "metadata": {
        "colab": {
          "base_uri": "https://localhost:8080/",
          "height": 530
        },
        "id": "nXsdGY7Vbz7r",
        "outputId": "23c028be-0662-4975-e349-3875e8605d99"
      },
      "execution_count": 278,
      "outputs": [
        {
          "output_type": "execute_result",
          "data": {
            "text/plain": [
              "                joined       username  \\\n",
              "0  2019-10-01 00:00:00  JoLynnBlake13   \n",
              "1  2018-09-01 00:00:00      BreLa1212   \n",
              "2  2015-02-01 00:00:00  NotMattrellen   \n",
              "3  2018-05-01 00:00:00  lizthemomager   \n",
              "4  2011-03-01 00:00:00        ipmedic   \n",
              "\n",
              "                                               name category  score  tweets  \\\n",
              "0  The hammer of Truth, Justice & the American Way!        1   0.81   24113   \n",
              "1                                            Bre-la        1   0.80    7145   \n",
              "2                           Probably Not Mattrellen        1   0.87     667   \n",
              "3                                           Aiabeth        1   0.77    2657   \n",
              "4                                         Jeff Long        1   0.80    2795   \n",
              "\n",
              "   following  followers  likes  user_id date_added status verified  \\\n",
              "0       7514       7334     10      NaN        NaN    NaN        0   \n",
              "1        126         54   9749      NaN        NaN    NaN        0   \n",
              "2        113         65   2214      NaN        NaN    NaN        0   \n",
              "3        739        448    743      NaN        NaN    NaN        0   \n",
              "4       4734       3540  10111      NaN        NaN    NaN        0   \n",
              "\n",
              "  geo_enabled suspended profile_location listed_count  Unnamed: 17  \n",
              "0           0         1              NaN            0          NaN  \n",
              "1           0         0      Hawaii, USA            5          NaN  \n",
              "2           0         0              NaN            0          NaN  \n",
              "3           0         1              NaN            0          NaN  \n",
              "4           1         0              NaN            4          NaN  "
            ],
            "text/html": [
              "\n",
              "  <div id=\"df-80cb4be3-4a66-40a7-b25d-e41bb04fc74b\">\n",
              "    <div class=\"colab-df-container\">\n",
              "      <div>\n",
              "<style scoped>\n",
              "    .dataframe tbody tr th:only-of-type {\n",
              "        vertical-align: middle;\n",
              "    }\n",
              "\n",
              "    .dataframe tbody tr th {\n",
              "        vertical-align: top;\n",
              "    }\n",
              "\n",
              "    .dataframe thead th {\n",
              "        text-align: right;\n",
              "    }\n",
              "</style>\n",
              "<table border=\"1\" class=\"dataframe\">\n",
              "  <thead>\n",
              "    <tr style=\"text-align: right;\">\n",
              "      <th></th>\n",
              "      <th>joined</th>\n",
              "      <th>username</th>\n",
              "      <th>name</th>\n",
              "      <th>category</th>\n",
              "      <th>score</th>\n",
              "      <th>tweets</th>\n",
              "      <th>following</th>\n",
              "      <th>followers</th>\n",
              "      <th>likes</th>\n",
              "      <th>user_id</th>\n",
              "      <th>date_added</th>\n",
              "      <th>status</th>\n",
              "      <th>verified</th>\n",
              "      <th>geo_enabled</th>\n",
              "      <th>suspended</th>\n",
              "      <th>profile_location</th>\n",
              "      <th>listed_count</th>\n",
              "      <th>Unnamed: 17</th>\n",
              "    </tr>\n",
              "  </thead>\n",
              "  <tbody>\n",
              "    <tr>\n",
              "      <th>0</th>\n",
              "      <td>2019-10-01 00:00:00</td>\n",
              "      <td>JoLynnBlake13</td>\n",
              "      <td>The hammer of Truth, Justice &amp; the American Way!</td>\n",
              "      <td>1</td>\n",
              "      <td>0.81</td>\n",
              "      <td>24113</td>\n",
              "      <td>7514</td>\n",
              "      <td>7334</td>\n",
              "      <td>10</td>\n",
              "      <td>NaN</td>\n",
              "      <td>NaN</td>\n",
              "      <td>NaN</td>\n",
              "      <td>0</td>\n",
              "      <td>0</td>\n",
              "      <td>1</td>\n",
              "      <td>NaN</td>\n",
              "      <td>0</td>\n",
              "      <td>NaN</td>\n",
              "    </tr>\n",
              "    <tr>\n",
              "      <th>1</th>\n",
              "      <td>2018-09-01 00:00:00</td>\n",
              "      <td>BreLa1212</td>\n",
              "      <td>Bre-la</td>\n",
              "      <td>1</td>\n",
              "      <td>0.80</td>\n",
              "      <td>7145</td>\n",
              "      <td>126</td>\n",
              "      <td>54</td>\n",
              "      <td>9749</td>\n",
              "      <td>NaN</td>\n",
              "      <td>NaN</td>\n",
              "      <td>NaN</td>\n",
              "      <td>0</td>\n",
              "      <td>0</td>\n",
              "      <td>0</td>\n",
              "      <td>Hawaii, USA</td>\n",
              "      <td>5</td>\n",
              "      <td>NaN</td>\n",
              "    </tr>\n",
              "    <tr>\n",
              "      <th>2</th>\n",
              "      <td>2015-02-01 00:00:00</td>\n",
              "      <td>NotMattrellen</td>\n",
              "      <td>Probably Not Mattrellen</td>\n",
              "      <td>1</td>\n",
              "      <td>0.87</td>\n",
              "      <td>667</td>\n",
              "      <td>113</td>\n",
              "      <td>65</td>\n",
              "      <td>2214</td>\n",
              "      <td>NaN</td>\n",
              "      <td>NaN</td>\n",
              "      <td>NaN</td>\n",
              "      <td>0</td>\n",
              "      <td>0</td>\n",
              "      <td>0</td>\n",
              "      <td>NaN</td>\n",
              "      <td>0</td>\n",
              "      <td>NaN</td>\n",
              "    </tr>\n",
              "    <tr>\n",
              "      <th>3</th>\n",
              "      <td>2018-05-01 00:00:00</td>\n",
              "      <td>lizthemomager</td>\n",
              "      <td>Aiabeth</td>\n",
              "      <td>1</td>\n",
              "      <td>0.77</td>\n",
              "      <td>2657</td>\n",
              "      <td>739</td>\n",
              "      <td>448</td>\n",
              "      <td>743</td>\n",
              "      <td>NaN</td>\n",
              "      <td>NaN</td>\n",
              "      <td>NaN</td>\n",
              "      <td>0</td>\n",
              "      <td>0</td>\n",
              "      <td>1</td>\n",
              "      <td>NaN</td>\n",
              "      <td>0</td>\n",
              "      <td>NaN</td>\n",
              "    </tr>\n",
              "    <tr>\n",
              "      <th>4</th>\n",
              "      <td>2011-03-01 00:00:00</td>\n",
              "      <td>ipmedic</td>\n",
              "      <td>Jeff Long</td>\n",
              "      <td>1</td>\n",
              "      <td>0.80</td>\n",
              "      <td>2795</td>\n",
              "      <td>4734</td>\n",
              "      <td>3540</td>\n",
              "      <td>10111</td>\n",
              "      <td>NaN</td>\n",
              "      <td>NaN</td>\n",
              "      <td>NaN</td>\n",
              "      <td>0</td>\n",
              "      <td>1</td>\n",
              "      <td>0</td>\n",
              "      <td>NaN</td>\n",
              "      <td>4</td>\n",
              "      <td>NaN</td>\n",
              "    </tr>\n",
              "  </tbody>\n",
              "</table>\n",
              "</div>\n",
              "      <button class=\"colab-df-convert\" onclick=\"convertToInteractive('df-80cb4be3-4a66-40a7-b25d-e41bb04fc74b')\"\n",
              "              title=\"Convert this dataframe to an interactive table.\"\n",
              "              style=\"display:none;\">\n",
              "        \n",
              "  <svg xmlns=\"http://www.w3.org/2000/svg\" height=\"24px\"viewBox=\"0 0 24 24\"\n",
              "       width=\"24px\">\n",
              "    <path d=\"M0 0h24v24H0V0z\" fill=\"none\"/>\n",
              "    <path d=\"M18.56 5.44l.94 2.06.94-2.06 2.06-.94-2.06-.94-.94-2.06-.94 2.06-2.06.94zm-11 1L8.5 8.5l.94-2.06 2.06-.94-2.06-.94L8.5 2.5l-.94 2.06-2.06.94zm10 10l.94 2.06.94-2.06 2.06-.94-2.06-.94-.94-2.06-.94 2.06-2.06.94z\"/><path d=\"M17.41 7.96l-1.37-1.37c-.4-.4-.92-.59-1.43-.59-.52 0-1.04.2-1.43.59L10.3 9.45l-7.72 7.72c-.78.78-.78 2.05 0 2.83L4 21.41c.39.39.9.59 1.41.59.51 0 1.02-.2 1.41-.59l7.78-7.78 2.81-2.81c.8-.78.8-2.07 0-2.86zM5.41 20L4 18.59l7.72-7.72 1.47 1.35L5.41 20z\"/>\n",
              "  </svg>\n",
              "      </button>\n",
              "      \n",
              "  <style>\n",
              "    .colab-df-container {\n",
              "      display:flex;\n",
              "      flex-wrap:wrap;\n",
              "      gap: 12px;\n",
              "    }\n",
              "\n",
              "    .colab-df-convert {\n",
              "      background-color: #E8F0FE;\n",
              "      border: none;\n",
              "      border-radius: 50%;\n",
              "      cursor: pointer;\n",
              "      display: none;\n",
              "      fill: #1967D2;\n",
              "      height: 32px;\n",
              "      padding: 0 0 0 0;\n",
              "      width: 32px;\n",
              "    }\n",
              "\n",
              "    .colab-df-convert:hover {\n",
              "      background-color: #E2EBFA;\n",
              "      box-shadow: 0px 1px 2px rgba(60, 64, 67, 0.3), 0px 1px 3px 1px rgba(60, 64, 67, 0.15);\n",
              "      fill: #174EA6;\n",
              "    }\n",
              "\n",
              "    [theme=dark] .colab-df-convert {\n",
              "      background-color: #3B4455;\n",
              "      fill: #D2E3FC;\n",
              "    }\n",
              "\n",
              "    [theme=dark] .colab-df-convert:hover {\n",
              "      background-color: #434B5C;\n",
              "      box-shadow: 0px 1px 3px 1px rgba(0, 0, 0, 0.15);\n",
              "      filter: drop-shadow(0px 1px 2px rgba(0, 0, 0, 0.3));\n",
              "      fill: #FFFFFF;\n",
              "    }\n",
              "  </style>\n",
              "\n",
              "      <script>\n",
              "        const buttonEl =\n",
              "          document.querySelector('#df-80cb4be3-4a66-40a7-b25d-e41bb04fc74b button.colab-df-convert');\n",
              "        buttonEl.style.display =\n",
              "          google.colab.kernel.accessAllowed ? 'block' : 'none';\n",
              "\n",
              "        async function convertToInteractive(key) {\n",
              "          const element = document.querySelector('#df-80cb4be3-4a66-40a7-b25d-e41bb04fc74b');\n",
              "          const dataTable =\n",
              "            await google.colab.kernel.invokeFunction('convertToInteractive',\n",
              "                                                     [key], {});\n",
              "          if (!dataTable) return;\n",
              "\n",
              "          const docLinkHtml = 'Like what you see? Visit the ' +\n",
              "            '<a target=\"_blank\" href=https://colab.research.google.com/notebooks/data_table.ipynb>data table notebook</a>'\n",
              "            + ' to learn more about interactive tables.';\n",
              "          element.innerHTML = '';\n",
              "          dataTable['output_type'] = 'display_data';\n",
              "          await google.colab.output.renderOutput(dataTable, element);\n",
              "          const docLink = document.createElement('div');\n",
              "          docLink.innerHTML = docLinkHtml;\n",
              "          element.appendChild(docLink);\n",
              "        }\n",
              "      </script>\n",
              "    </div>\n",
              "  </div>\n",
              "  "
            ]
          },
          "metadata": {},
          "execution_count": 278
        }
      ]
    },
    {
      "cell_type": "code",
      "source": [
        "td2 = td.filter(['category', 'tweets', 'following', 'followers', 'likes'], axis = 1)"
      ],
      "metadata": {
        "id": "IJ4fRe8Ncxyd"
      },
      "execution_count": 279,
      "outputs": []
    },
    {
      "cell_type": "code",
      "source": [
        "y = td2['category']\n",
        "x = td2.drop(['category'], axis=1)\n",
        "y = y.astype('int')"
      ],
      "metadata": {
        "id": "uZ9Icy4Dl8Ui"
      },
      "execution_count": 280,
      "outputs": []
    },
    {
      "cell_type": "code",
      "source": [
        "from sklearn.model_selection import train_test_split\n",
        "\n",
        "x_train, x_test, y_train, y_test = train_test_split(x, y, random_state = 101, stratify = y, test_size = 0.3)"
      ],
      "metadata": {
        "id": "1oP1Zr3MnVJT"
      },
      "execution_count": 281,
      "outputs": []
    },
    {
      "cell_type": "code",
      "source": [
        "y_train.value_counts(normalize = True)"
      ],
      "metadata": {
        "colab": {
          "base_uri": "https://localhost:8080/"
        },
        "id": "bLjZx2lVopVH",
        "outputId": "c07b559b-409f-4e6f-96a3-17673b52ca5e"
      },
      "execution_count": 282,
      "outputs": [
        {
          "output_type": "execute_result",
          "data": {
            "text/plain": [
              "0    0.612534\n",
              "1    0.387466\n",
              "Name: category, dtype: float64"
            ]
          },
          "metadata": {},
          "execution_count": 282
        }
      ]
    },
    {
      "cell_type": "markdown",
      "source": [
        "***DYNAMIC TREE MODEL***\n"
      ],
      "metadata": {
        "id": "O36wpAxBttH5"
      }
    },
    {
      "cell_type": "code",
      "source": [
        "from sklearn.tree import DecisionTreeClassifier\n",
        "from sklearn.tree import DecisionTreeRegressor"
      ],
      "metadata": {
        "id": "c_GWkSVapDYD"
      },
      "execution_count": 283,
      "outputs": []
    },
    {
      "cell_type": "code",
      "source": [
        "dt_model = DecisionTreeClassifier(random_state = 10)"
      ],
      "metadata": {
        "id": "G959xWdbtbFb"
      },
      "execution_count": 284,
      "outputs": []
    },
    {
      "cell_type": "code",
      "source": [
        "dt_model.fit(x_train, y_train)\n"
      ],
      "metadata": {
        "colab": {
          "base_uri": "https://localhost:8080/"
        },
        "id": "jqCF8MzhuDUi",
        "outputId": "8ad96eae-f3eb-4653-902b-bd57846514b7"
      },
      "execution_count": 285,
      "outputs": [
        {
          "output_type": "execute_result",
          "data": {
            "text/plain": [
              "DecisionTreeClassifier(random_state=10)"
            ]
          },
          "metadata": {},
          "execution_count": 285
        }
      ]
    },
    {
      "cell_type": "code",
      "source": [
        "dt_model.score(x_test, y_test)"
      ],
      "metadata": {
        "colab": {
          "base_uri": "https://localhost:8080/"
        },
        "id": "Sd4nVGZWxTPh",
        "outputId": "fe80a84e-74bc-4479-fe68-1bd0ef339830"
      },
      "execution_count": 286,
      "outputs": [
        {
          "output_type": "execute_result",
          "data": {
            "text/plain": [
              "0.6201978671463446"
            ]
          },
          "metadata": {},
          "execution_count": 286
        }
      ]
    },
    {
      "cell_type": "markdown",
      "source": [
        "USING DIFFERENT PARAMETERS TO INCREASE ACCURACY\n"
      ],
      "metadata": {
        "id": "TbD4xhb78M2H"
      }
    },
    {
      "cell_type": "code",
      "source": [
        "train_acc = []\n",
        "test_acc = []\n",
        "# changing max depth \n",
        "for depth in range(1,10):\n",
        "  dt_model = DecisionTreeClassifier(max_depth = depth, random_state = 10)\n",
        "  dt_model.fit(x_train, y_train)\n",
        "  train_acc.append(dt_model.score(x_train, y_train))\n",
        "  test_acc.append(dt_model.score(x_test, y_test))\n",
        "\n"
      ],
      "metadata": {
        "id": "YC0c_b7h8RWa"
      },
      "execution_count": 288,
      "outputs": []
    },
    {
      "cell_type": "code",
      "source": [
        "df = pd.DataFrame({'max_depth': range(1,10), 'train_acc': train_acc, 'test_acc': test_acc})"
      ],
      "metadata": {
        "id": "dQ2KUSMN9SRE"
      },
      "execution_count": 292,
      "outputs": []
    },
    {
      "cell_type": "code",
      "source": [
        "plt.figure(figsize = (12,6))\n",
        "plt.plot(df['max_depth'], df['train_acc'], marker = 'o')\n",
        "plt.plot(df['max_depth'], df['test_acc'], marker = 'o')\n",
        "plt.xlabel('Depth of tree')\n",
        "plt.ylabel('performance')\n",
        "plt.legend()"
      ],
      "metadata": {
        "colab": {
          "base_uri": "https://localhost:8080/",
          "height": 422
        },
        "id": "tZ1aRkJC9yXx",
        "outputId": "f8e850fe-a3d9-4dce-f43a-786cac6fdfc0"
      },
      "execution_count": 294,
      "outputs": [
        {
          "output_type": "stream",
          "name": "stderr",
          "text": [
            "No handles with labels found to put in legend.\n"
          ]
        },
        {
          "output_type": "execute_result",
          "data": {
            "text/plain": [
              "<matplotlib.legend.Legend at 0x7fcab982c810>"
            ]
          },
          "metadata": {},
          "execution_count": 294
        },
        {
          "output_type": "display_data",
          "data": {
            "text/plain": [
              "<Figure size 864x432 with 1 Axes>"
            ],
            "image/png": "[encoded data removed]"
          },
          "metadata": {
            "needs_background": "light"
          }
        }
      ]
    },
    {
      "cell_type": "code",
      "source": [
        "dt_model = DecisionTreeClassifier(max_depth = 15, max_leaf_nodes = 25, random_state = 4)\n",
        "dt_model.fit(x_train, y_train)\n",
        "dt_model.score(x_train, y_train)"
      ],
      "metadata": {
        "colab": {
          "base_uri": "https://localhost:8080/"
        },
        "id": "DFSj2yXW_BHA",
        "outputId": "b9216295-aa05-4437-fef0-ed7f974c0228"
      },
      "execution_count": 310,
      "outputs": [
        {
          "output_type": "execute_result",
          "data": {
            "text/plain": [
              "0.6784514565780054"
            ]
          },
          "metadata": {},
          "execution_count": 310
        }
      ]
    },
    {
      "cell_type": "code",
      "source": [
        ""
      ],
      "metadata": {
        "id": "RqFkNP3WCGhL"
      },
      "execution_count": null,
      "outputs": []
    }
  ]
}